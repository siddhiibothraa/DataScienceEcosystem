{
 "cells": [
  {
   "cell_type": "markdown",
   "id": "f03505a3",
   "metadata": {},
   "source": [
    "Exercise 2: Create markdown cell with title of the notebook\n",
    "\n",
    "Create a markdown cell with the title Data Science Tools and Ecosystem using H1 style heading.\n",
    "Take a screenshot of the markdown cell and name it as 2-title.png (Images can be saved with either the .jpg or .png extension.)\n"
   ]
  },
  {
   "cell_type": "markdown",
   "id": "d6f155bc",
   "metadata": {},
   "source": [
    "# Data Science Tools and Ecosystem\n"
   ]
  },
  {
   "cell_type": "markdown",
   "id": "b8ccd5f0",
   "metadata": {},
   "source": [
    "Exercise 3 - Create a markdown cell for an introduction\n",
    "\n",
    "Write an introductory sentence about the notebook such as the follows:\n",
    "\n",
    "In this notebook, Data Science Tools and Ecosystem are summarized.\n",
    "Take a screenshot of the markdown cell and name it as 3-intro.png (Images can be saved with either the .jpg or .png extension.)\n"
   ]
  },
  {
   "cell_type": "markdown",
   "id": "305dcc6c",
   "metadata": {},
   "source": [
    "___In this notebook, Data Science Tools and Ecosystem are summarized.___"
   ]
  },
  {
   "cell_type": "code",
   "execution_count": null,
   "id": "c64caf78",
   "metadata": {},
   "outputs": [],
   "source": [
    "Exercise 10 - Insert a markdown cell to list Objectives\n",
    "\n",
    "Below the introduction cell created in Exercise 3, insert a new markdown cell to list the objectives that this notebook covered (i.e. some of the key takeaways from the course). In this new cell start with an introductory line titled: Objectives: in bold font. Then using an unordered list (bullets) indicate 3 to 5 items covered in this notebook, such as List popular languages for Data Science.\n",
    "Take a screenshot of the markdown cell and name it as 10-objectives.png (Images can be saved with either the .jpg or .png extension.)"
   ]
  },
  {
   "cell_type": "markdown",
   "id": "f3ae5f3e",
   "metadata": {},
   "source": [
    "***Objectives:***\n",
    "- List popular languages for Data science\n",
    "- List Data Science libraries\n",
    "- List Data science tools\n",
    "- Introduction to arithmetic expressions in Python"
   ]
  },
  {
   "cell_type": "code",
   "execution_count": null,
   "id": "580760a7",
   "metadata": {},
   "outputs": [],
   "source": [
    "Exercise 4 - Create a markdown cell to list data science languages\n",
    "\n",
    "Start the cell with an overview line such as:\n",
    "\n",
    "Some of the popular languages that Data Scientists use are:\n",
    "Then create an ordered list (i.e. numbered) listing 3 (or more) commonly used languages for data science.\n",
    "Take a screenshot of the markdown cell and name it as 4-dslanguages.png (Images can be saved with either the .jpg or .png extension.)\n"
   ]
  },
  {
   "cell_type": "markdown",
   "id": "7358c9de",
   "metadata": {},
   "source": [
    "Some of the popular languages that Data Scientists use are:\n",
    "1. Python\n",
    "2. SQL\n",
    "3. Julian"
   ]
  },
  {
   "cell_type": "code",
   "execution_count": null,
   "id": "d011d617",
   "metadata": {},
   "outputs": [],
   "source": [
    "Exercise 5 - Create a markdown cell to list data science libraries\n",
    "\n",
    "Add an overview line to the cell like:\n",
    "\n",
    "Some of the commonly used libraries used by Data Scientists include:\n",
    "Below this line add an ordered list listing 3 (or more) commonly used libraries in data science.\n",
    "Take a screenshot of the markdown cell and name it as 5-dslibraries.png (Images can be saved with either the .jpg or .png extension.)"
   ]
  },
  {
   "cell_type": "markdown",
   "id": "929ba8d6",
   "metadata": {},
   "source": [
    "Some of the commonly used libraries used by Data Scientists include:\n",
    "1. Numpy\n",
    "2. Sci-kit learn\n",
    "3. Pandas\n",
    "    "
   ]
  },
  {
   "cell_type": "code",
   "execution_count": null,
   "id": "30a6103b",
   "metadata": {},
   "outputs": [],
   "source": [
    "Exercise 6 - Create a markdown cell with a table of Data Science tools\n",
    "\n",
    "Create a single column table in this cell with the first row containing the header Data Science Tools. The subsequent three rows in the table should indicate three development environment open source tools used in data science.\n",
    "\n",
    "Take a screenshot of the markdown cell and name it as 6-dstools.png (Images can be saved with either the .jpg or .png extension.)\n",
    "Hint: Refer to Lab: Using Markdowns in Jupyter Notebooks to create a table.\n"
   ]
  },
  {
   "cell_type": "markdown",
   "id": "e75e6754",
   "metadata": {},
   "source": [
    "| Data Science Tools |\n",
    "|--------------------|\n",
    "| Jupyter Notebook |\n",
    "| RStudio |\n",
    "| Visual Studio Code |"
   ]
  },
  {
   "cell_type": "code",
   "execution_count": null,
   "id": "72076461",
   "metadata": {},
   "outputs": [],
   "source": [
    "Exercise 7 - Create a markdown cell introducing arithmetic expression examples\n",
    "\n",
    "Add a line in this cell with H3 style heading with text like:\n",
    "\n",
    "Below are a few examples of evaluating arithmetic expressions in Python.\n",
    "Take a screenshot of the markdown cell and name it as 7-introarithmetic.png (Images can be saved with either the .jpg or .png extension.)\n"
   ]
  },
  {
   "cell_type": "markdown",
   "id": "1638ca79",
   "metadata": {},
   "source": [
    "### Below are a few examples of evaluating arithmetic expressions in Python\n",
    "\n",
    "result = 2 + 3\n",
    "print(result)\n",
    "\n",
    "result = 10/5\n",
    "print(result)\n",
    "\n",
    "result = 7*9\n",
    "print(result)"
   ]
  },
  {
   "cell_type": "code",
   "execution_count": null,
   "id": "489ab136",
   "metadata": {},
   "outputs": [],
   "source": [
    "Exercise 8 - Create a code cell to multiply and add numbers\n",
    "\n",
    "In this code cell evaluate the expression (3*4)+5.\n",
    "Insert a comment line before the expression to explain the operation e.g.  This a simple arithmetic expression to mutiply then add integers.\n",
    "Then execute the cell to ensure the expression returns the expected output of 17.\n",
    "Take a screenshot of the code cell with output and name it as 8-multiplyandaddintegers.png (Images can be saved with either the .jpg or .png extension.)\n"
   ]
  },
  {
   "cell_type": "code",
   "execution_count": 2,
   "id": "898eb3c2",
   "metadata": {},
   "outputs": [
    {
     "name": "stdout",
     "output_type": "stream",
     "text": [
      "17\n"
     ]
    }
   ],
   "source": [
    "# This a simple arithmetic expression to mutiply then add integers.\n",
    "a = (3*4)+5\n",
    "print(a)"
   ]
  },
  {
   "cell_type": "code",
   "execution_count": null,
   "id": "f1712754",
   "metadata": {},
   "outputs": [],
   "source": [
    "Exercise 9 - Create a code cell to convert minutes to hours\n",
    "\n",
    "In this code cell write an expression that converts 200 minutes into hours.\n",
    "Insert a comment line before the expression to explain the operation e.g.  This will convert 200 minutes to hours by diving by 60.\n",
    "Run the cell to evaluate the expression.\n",
    "Take a screenshot of the code cell with output and name it as 9-hourstominutes.png (Images can be saved with either the .jpg or .png extension.)\n"
   ]
  },
  {
   "cell_type": "code",
   "execution_count": 3,
   "id": "3cf33f07",
   "metadata": {},
   "outputs": [
    {
     "name": "stdout",
     "output_type": "stream",
     "text": [
      "3.3333333333333335\n"
     ]
    }
   ],
   "source": [
    "# This will convert 200 minutes to hours by diving by 60\n",
    "converted = 200/60\n",
    "print(converted)"
   ]
  },
  {
   "cell_type": "code",
   "execution_count": null,
   "id": "246225a4",
   "metadata": {},
   "outputs": [],
   "source": [
    "Exercise 11 - Create a markdown cell to indicate the Author's name\n",
    "\n",
    "In this markdown cell markdown cell include the following text Author in H2 style heading. Include your name as regular text below the word Author.\n",
    "Take a screenshot of the markdown cell and name it as 11-authordetails.png (Images can be saved with either the .jpg or .png extension.)"
   ]
  },
  {
   "cell_type": "markdown",
   "id": "026c6544",
   "metadata": {},
   "source": [
    "## Author\n",
    "Siddhii Raajjhesh Bothraa"
   ]
  },
  {
   "cell_type": "code",
   "execution_count": null,
   "id": "1348a237",
   "metadata": {},
   "outputs": [],
   "source": []
  }
 ],
 "metadata": {
  "kernelspec": {
   "display_name": "Python 3 (ipykernel)",
   "language": "python",
   "name": "python3"
  },
  "language_info": {
   "codemirror_mode": {
    "name": "ipython",
    "version": 3
   },
   "file_extension": ".py",
   "mimetype": "text/x-python",
   "name": "python",
   "nbconvert_exporter": "python",
   "pygments_lexer": "ipython3",
   "version": "3.10.9"
  }
 },
 "nbformat": 4,
 "nbformat_minor": 5
}
